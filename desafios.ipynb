{
 "cells": [
  {
   "cell_type": "code",
   "execution_count": 1,
   "id": "6b9f0d2a",
   "metadata": {},
   "outputs": [
    {
     "name": "stdout",
     "output_type": "stream",
     "text": [
      "Alo mundo!\n"
     ]
    }
   ],
   "source": [
    "# 1. Faça um Programa que mostre a mensagem \"Alo mundo\" na tela.\n",
    "\n",
    "def mensagem(conteudo):\n",
    "    print(conteudo)\n",
    "    \n",
    "mensagem('Alo mundo!')"
   ]
  },
  {
   "cell_type": "code",
   "execution_count": 2,
   "id": "e9326b31",
   "metadata": {},
   "outputs": [
    {
     "name": "stdout",
     "output_type": "stream",
     "text": [
      "Informe um numero: 7\n",
      "O número informado é:  7\n"
     ]
    }
   ],
   "source": [
    "# 2. Faça um Programa que peça um número e então mostre a mensagem O número informado foi [número].\n",
    "\n",
    "num = input(\"Informe um numero: \")\n",
    "print(\"O número informado é: \",num)"
   ]
  },
  {
   "cell_type": "code",
   "execution_count": 3,
   "id": "46eaf519",
   "metadata": {},
   "outputs": [
    {
     "name": "stdout",
     "output_type": "stream",
     "text": [
      "A soma é: 18\n"
     ]
    }
   ],
   "source": [
    "# 3. Faça um Programa que peça dois números e imprima a soma.\n",
    "\n",
    "class Somatoria():\n",
    "    \n",
    "    def __init__(self, num1, num2):\n",
    "        self.num1 = num1\n",
    "        self.num2 = num2\n",
    "        soma = num1 + num2\n",
    "        print(\"A soma é:\", soma)\n",
    "        \n",
    "Soma = Somatoria(10,8)"
   ]
  },
  {
   "cell_type": "code",
   "execution_count": 4,
   "id": "cef462f5",
   "metadata": {},
   "outputs": [
    {
     "name": "stdout",
     "output_type": "stream",
     "text": [
      "Insira a nota do primeiro bimestre: 7\n",
      "Insira a nota do segundo bimestre: 7\n",
      "Insira a nota do terceiro bimestre: 7\n",
      "Insira a nota do quarto bimestre: 7\n",
      "A média das notas é:  7.0\n"
     ]
    }
   ],
   "source": [
    "# 4. Faça um Programa que peça as 4 notas bimestrais e mostre a média.\n",
    "\n",
    "def media():\n",
    "    \n",
    "    nota1 = input(\"Insira a nota do primeiro bimestre: \")\n",
    "    nota1 = int(nota1)\n",
    "    \n",
    "    nota2 = input(\"Insira a nota do segundo bimestre: \")\n",
    "    nota2 = int(nota2)\n",
    "    \n",
    "    nota3 = input(\"Insira a nota do terceiro bimestre: \")\n",
    "    nota3 = int(nota3)\n",
    "    \n",
    "    nota4 = input(\"Insira a nota do quarto bimestre: \")\n",
    "    nota4 = int(nota4)\n",
    "    \n",
    "    soma = nota1 + nota2 + nota3 + nota4\n",
    "    media = soma / 4\n",
    "\n",
    "    print(\"A média das notas é: \", media)\n",
    "\n",
    "media()"
   ]
  },
  {
   "cell_type": "code",
   "execution_count": 5,
   "id": "9dd3d238",
   "metadata": {},
   "outputs": [
    {
     "name": "stdout",
     "output_type": "stream",
     "text": [
      "Insira a metragem: 40\n",
      "Tamanho em centímetros:  4000 cm\n"
     ]
    }
   ],
   "source": [
    "# 5. Faça um Programa que converta metros para centímetros.\n",
    "\n",
    "def conversor():\n",
    "   \n",
    "    metros = input(\"Insira a metragem: \")\n",
    "    cm = int(metros) * 100\n",
    "\n",
    "    print(\"Tamanho em centímetros: \",cm,\"cm\")\n",
    "\n",
    "conversor()"
   ]
  },
  {
   "cell_type": "code",
   "execution_count": 6,
   "id": "a60831db",
   "metadata": {},
   "outputs": [
    {
     "name": "stdout",
     "output_type": "stream",
     "text": [
      "Insira o tamanho do raio: 10\n",
      "A area é:  314.0\n"
     ]
    }
   ],
   "source": [
    "# 6. Faça um Programa que peça o raio de um círculo, calcule e mostre sua área.\n",
    "\n",
    "def conversor():\n",
    "    \n",
    "    pi = 3.14\n",
    "    \n",
    "    a = input(\"Insira o tamanho do raio: \")\n",
    "    a = int(a)\n",
    "\n",
    "    area = a ** 2 * pi\n",
    "\n",
    "    print(\"A area é: \", area)\n",
    "\n",
    "conversor()"
   ]
  },
  {
   "cell_type": "code",
   "execution_count": 7,
   "id": "2361857a",
   "metadata": {},
   "outputs": [
    {
     "name": "stdout",
     "output_type": "stream",
     "text": [
      "Insira o tamanho do lado do quadrado: 7\n",
      "A area é:  28\n",
      "A area dobrada é:  56\n"
     ]
    }
   ],
   "source": [
    "# 7. Faça um Programa que calcule a área de um quadrado, em seguida mostre o dobro desta área para o usuário.\n",
    "def conversor():\n",
    "    \n",
    "    a = input(\"Insira o tamanho do lado do quadrado: \")\n",
    "    a = int(a)\n",
    "\n",
    "    area = a * 4\n",
    "    areadobrada = area * 2\n",
    "    \n",
    "    print(\"A area é: \", area)\n",
    "    print(\"A area dobrada é: \", areadobrada)\n",
    "\n",
    "conversor()\n",
    "    "
   ]
  },
  {
   "cell_type": "code",
   "execution_count": 8,
   "id": "cfbaed73",
   "metadata": {},
   "outputs": [
    {
     "name": "stdout",
     "output_type": "stream",
     "text": [
      "Insira o quanto você ganha por hora trabalhada: 70\n",
      "Insira quantas horas você trabalhou no mês: 160\n",
      "Seu salário é R$ 11200\n"
     ]
    }
   ],
   "source": [
    "# 8. Faça um Programa que pergunte quanto você ganha por hora e o número de horas trabalhadas no mês. \n",
    "# Calcule e mostre o total do seu salário no referido mês.\n",
    "\n",
    "def salario():\n",
    "    \n",
    "    hora = input(\"Insira o quanto você ganha por hora trabalhada: \")\n",
    "    hora = int(hora)\n",
    "    horastrabalhadas = input(\"Insira quantas horas você trabalhou no mês: \")\n",
    "    horastrabalhadas = int(horastrabalhadas)\n",
    "    \n",
    "    salario = hora * horastrabalhadas\n",
    "    \n",
    "    print(\"Seu salário é R$\",salario)\n",
    "    \n",
    "salario()"
   ]
  },
  {
   "cell_type": "code",
   "execution_count": 9,
   "id": "6d2f10b4",
   "metadata": {},
   "outputs": [
    {
     "name": "stdout",
     "output_type": "stream",
     "text": [
      "Informe a temperatura em Fahrenheit: 100\n",
      "A temperatura é: 37.78° Celsius\n"
     ]
    }
   ],
   "source": [
    "# 9.Faça um Programa que peça a temperatura em graus Fahrenheit, transforme e mostre a temperatura em graus Celsius\n",
    "\n",
    "def temperatura():\n",
    "    f = input(\"Informe a temperatura em Fahrenheit: \")\n",
    "    c = (float(f) - 32) / 1.8\n",
    "\n",
    "    print(f'A temperatura é: {c:,.2f}° Celsius')\n",
    "    \n",
    "temperatura()"
   ]
  },
  {
   "cell_type": "code",
   "execution_count": 10,
   "id": "f69fe6c8",
   "metadata": {},
   "outputs": [
    {
     "name": "stdout",
     "output_type": "stream",
     "text": [
      "Informe a temperatura em Celsius: 37\n",
      "A temperatura é: 98.60° Fahrenheit\n"
     ]
    }
   ],
   "source": [
    "# 10. Faça um Programa que peça a temperatura em graus Celsius, transforme e mostre em graus Fahrenheit.\n",
    "\n",
    "def temperatura():\n",
    "    c = input(\"Informe a temperatura em Celsius: \")\n",
    "    f = (float(c) * 1.8) + 32\n",
    "\n",
    "    print(f'A temperatura é: {f:,.2f}° Fahrenheit')\n",
    "          \n",
    "temperatura()"
   ]
  },
  {
   "cell_type": "code",
   "execution_count": null,
   "id": "fef4c1e7",
   "metadata": {},
   "outputs": [],
   "source": []
  }
 ],
 "metadata": {
  "kernelspec": {
   "display_name": "Python 3 (ipykernel)",
   "language": "python",
   "name": "python3"
  },
  "language_info": {
   "codemirror_mode": {
    "name": "ipython",
    "version": 3
   },
   "file_extension": ".py",
   "mimetype": "text/x-python",
   "name": "python",
   "nbconvert_exporter": "python",
   "pygments_lexer": "ipython3",
   "version": "3.9.13"
  }
 },
 "nbformat": 4,
 "nbformat_minor": 5
}
